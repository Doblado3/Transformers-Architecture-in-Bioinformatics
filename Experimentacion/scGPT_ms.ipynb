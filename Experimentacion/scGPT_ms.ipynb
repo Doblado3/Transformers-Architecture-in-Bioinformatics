{
 "cells": [
  {
   "cell_type": "markdown",
   "metadata": {},
   "source": [
    "Este notebook contiene, de forma detallada y simplificada, todo el proceso de generación de embeddings usando el modelo, con arquitectura Transformer, pre-entrenado en el cuerpo humano, de scGPT. Probaremos al modelo sobre datos de esclerosis múltiple, buscando contrastar los resultados con los mostrados por el equipo de desarrollo del propio modelo en el artículo de \"presentación\"."
   ]
  },
  {
   "cell_type": "markdown",
   "metadata": {},
   "source": [
    "El primer paso consiste en importar las librerías y paquetes que nos serán necesarios. \n",
    "\n",
    "A 27/01/2025, debemos tener en cuenta las siguientes dependencias entre librerías:\n",
    "\n",
    "-scgpt requiere 3.7<= Python <3.11, lo cual hace que no se puede emplear en Google Colab.\n",
    "\n",
    "-pytorch==2.1.2\n",
    "\n",
    "-numpy<2"
   ]
  },
  {
   "cell_type": "code",
   "execution_count": null,
   "metadata": {},
   "outputs": [],
   "source": [
    "\n",
    "import warnings\n",
    "import urllib.request\n",
    "from pathlib import Path\n",
    "import os\n",
    "\n",
    "import torch\n",
    "import scgpt as scg\n",
    "import scanpy as sc\n",
    "import numpy as np\n",
    "import pandas as pd\n",
    "import gdown\n",
    "\n",
    "\n",
    "warnings.filterwarnings(\"ignore\")"
   ]
  },
  {
   "cell_type": "markdown",
   "metadata": {},
   "source": [
    "El primer paso consiste en descargar el modelo pre-entrenado del enlace proporcionado en el github de el laboratorio de Bo wang: \n",
    "https://github.com/bowang-lab/scGPT . Nos aseguramos de que solo se nos descargue una vez. Por medio del campo folder_id podremos descargar cualquier otro modelo si así lo deseamos."
   ]
  },
  {
   "cell_type": "code",
   "execution_count": null,
   "metadata": {},
   "outputs": [],
   "source": [
    "warnings.simplefilter(\"ignore\", ResourceWarning)\n",
    "warnings.filterwarnings(\"ignore\", category=ImportWarning)\n",
    "\n",
    "output_dir = \"../Experimentacion/save/scGPT_human\"\n",
    "if os.path.exists(output_dir):\n",
    "    print(\"model checkpoint already downloaded!!\")\n",
    "else:\n",
    "\n",
    "    # En caso de usar otro modelo, introduce su ID\n",
    "    folder_id = \"1oWh_-ZRdhtoGQ2Fw24HP41FgLoomVo-y\"\n",
    "\n",
    "    gdown.download_folder(f\"https://drive.google.com/drive/folders/{folder_id}\", output=output_dir, quiet=False)"
   ]
  },
  {
   "cell_type": "markdown",
   "metadata": {},
   "source": [
    "Seguimos con la descarga de los datos, como ya hemos mencionado usaremos datos de esclerosis múltiple, en concreto los proporcionados por el propio equipo de desarrollo. El siguiente código debería ser modificado en función de si descargamos una carpeta en Google Drive, como es nuestro caso, o si simplemente descargamos un archivo de un sitio web, como es el caso en \"quickStart.ipynb\".\n",
    "\n",
    "En la última línea leemos los datos del formado .h5ad gracias a la librería scanpy."
   ]
  },
  {
   "cell_type": "code",
   "execution_count": null,
   "metadata": {},
   "outputs": [],
   "source": [
    "output_dir = \"../Experimentacion/data/ms\"\n",
    "if os.path.exists(output_dir):\n",
    "    print(\"data already downloaded!!\")\n",
    "else:\n",
    "\n",
    "    # En caso de usar otros datos, cambia el ID\n",
    "    folder_id = \"1Qd42YNabzyr2pWt9xoY4cVMTAxsNBt4v\"\n",
    "\n",
    "    gdown.download_folder(f\"https://drive.google.com/drive/folders/{folder_id}\", output=output_dir, quiet=False)\n",
    "    \n",
    "adata = sc.read_h5ad(\"../Experimentacion/data/ms/c_data.h5ad\")"
   ]
  },
  {
   "cell_type": "markdown",
   "metadata": {},
   "source": [
    "Una vez está todo listo, podemos comenzar a trabajar sobre los datos para entender a qué nos enfrentamos y cómo vamos a abordarlo. Primero, echemos un vistazo rápido a los datos, que se almacenan en un objeto de tipo AnnData."
   ]
  },
  {
   "cell_type": "code",
   "execution_count": null,
   "metadata": {},
   "outputs": [],
   "source": [
    "adata"
   ]
  },
  {
   "cell_type": "code",
   "execution_count": null,
   "metadata": {},
   "outputs": [],
   "source": [
    "batch_key = \"sample\"\n",
    "N_HVG = 3000\n",
    "\n",
    "\"\"\"\n",
    "    Filtramos el dataset para obtener aquellos genes con una mayor variabilidad y que más\n",
    "    info nos aportan\n",
    "\"\"\"\n",
    "sc.pp.highly_variable_genes(adata, n_top_genes=N_HVG, flavor='seurat_v3')\n",
    "adata_hvg = adata[:, adata.var['highly_variable']]\n",
    "\n",
    "adata_hvg"
   ]
  },
  {
   "cell_type": "markdown",
   "metadata": {},
   "source": [
    "Una vez trabajados los datos, vamos a generar los embeddings. \n",
    "\n",
    "Para que la función embed_data funcione, debemos aplicar un par de cambios en su código fuente. Para ello, haz doble click sobre la misma y pincha en \"Ir a definición\". Una vez allí, deberás buscar la línea de código 53, en la que pone \".A\", y sustituirlo por \".toarray()\". También, deberás buscar la línea 258 y añadir a \"torch.load()\" el parámetro map_location = device.\n",
    "\n",
    "Tras cambiar esto, debería funcionar. Yo los obtuve en unos 40 minutos, haciendo uso del 65-75% de uso de una CPU amd ryzen 5600 xt, empleando 20GB de RAM de un total de 32."
   ]
  },
  {
   "cell_type": "code",
   "execution_count": null,
   "metadata": {},
   "outputs": [],
   "source": [
    "model_dir = Path(\"../Transformers-Architecture-in-Bioinformatics/Experimentacion/save/scGPT_human\")\n",
    "\n",
    "\n",
    "\n",
    "gene_col = \"feature_name\"\n",
    "cell_type_key = \"cell_type\"\n",
    "\n",
    "ref_embed_adata = scg.tasks.embed_data(\n",
    "    adata_hvg,\n",
    "    model_dir,\n",
    "    gene_col=gene_col,\n",
    "    obs_to_save=cell_type_key,  # optional arg, only for saving metainfo\n",
    "    batch_size=64,\n",
    "    return_new_adata=True,\n",
    ")"
   ]
  },
  {
   "cell_type": "markdown",
   "metadata": {},
   "source": [
    "Una vez obtenidos, podemos ver como queda el objeto AnnData generado."
   ]
  },
  {
   "cell_type": "code",
   "execution_count": null,
   "metadata": {},
   "outputs": [],
   "source": [
    "ref_embed_adata"
   ]
  },
  {
   "cell_type": "markdown",
   "metadata": {},
   "source": [
    "Ahora, vamos a visualizarlos haciendo uso de un UMAP. Sin embargo, primero debemos aplicar un par de funciones que buscan reducir la dimensionalidad de los datos."
   ]
  },
  {
   "cell_type": "code",
   "execution_count": null,
   "metadata": {},
   "outputs": [],
   "source": [
    "sc.pp.neighbors(ref_embed_adata, use_rep=\"X\")\n",
    "sc.tl.umap(ref_embed_adata)"
   ]
  },
  {
   "cell_type": "markdown",
   "metadata": {},
   "source": [
    "También, para la representación, añadiremos los nuevos datos calculados a las variables originales que los contenían. Por último, nos aseguramos de guardar los embeddings de forma permanente para no tener que volver a esperar a todo el procesamiento de su generación."
   ]
  },
  {
   "cell_type": "code",
   "execution_count": null,
   "metadata": {},
   "outputs": [],
   "source": [
    "adata.obsm[\"X_scgpt\"] = ref_embed_adata.X\n",
    "adata.obsm[\"X_umap\"] = ref_embed_adata.obsm[\"X_umap\"]\n",
    "\n",
    "# Añadimos el índice actual como una columna\n",
    "adata.var['ensembl_id'] = adata.var.index\n",
    "# Le modificamos el nombre a esta\n",
    "adata.var.set_index('feature_name', inplace=True)\n",
    "# Añadimos una copia del símbolo de los genes a var\n",
    "adata.var['gene_symbol'] = adata.var.index\n",
    "\n",
    "adata.write(\"/home/pablo/git/Transformers-Architecture-in-Bioinformatics/Experimentacion/scGPT_embeddings/first_get_started_embeddings.h5ad\")"
   ]
  },
  {
   "cell_type": "markdown",
   "metadata": {},
   "source": [
    "Ahora ya sí, pasamos a visualizar los resultados, asegurándonos también de almacenarlos."
   ]
  },
  {
   "cell_type": "code",
   "execution_count": null,
   "metadata": {},
   "outputs": [],
   "source": [
    "output_umap = \"genEmbeddings_figures\"\n",
    "os.makedirs(output_umap, exist_ok=True)\n",
    "sc.settings.figdir = output_umap"
   ]
  },
  {
   "cell_type": "code",
   "execution_count": null,
   "metadata": {},
   "outputs": [],
   "source": [
    "with warnings.catch_warnings():\n",
    "    warnings.filterwarnings(\"ignore\")\n",
    "    #sc.pp.neighbors(ref_embed_adata, use_rep=\"X\")\n",
    "    #sc.tl.umap(ref_embed_adata)\n",
    "    sc.pl.umap(adata, color=[\"cell_type\", \"annotation_res0.34_new2\"], wspace = 0.6, save=\"get_started_umap.png\")"
   ]
  },
  {
   "cell_type": "markdown",
   "metadata": {},
   "source": [
    "Para terminar, puedes ubicar a genes de forma individual en el mapa total de embeddings."
   ]
  },
  {
   "cell_type": "code",
   "execution_count": null,
   "metadata": {},
   "outputs": [],
   "source": [
    "sc.pl.umap(adata, color=['cell_type', 'MKI67', 'LYZ', 'RBP2', 'MUC2', 'CHGA', 'TAGLN', 'ELAVL3'], frameon=False, use_raw=False, legend_fontsize =\"xx-small\", legend_loc=\"none\", save=\"get_started_markers.png\")"
   ]
  }
 ],
 "metadata": {
  "kernelspec": {
   "display_name": "envTFG",
   "language": "python",
   "name": "python3"
  },
  "language_info": {
   "name": "python",
   "version": "3.10.12"
  }
 },
 "nbformat": 4,
 "nbformat_minor": 2
}
