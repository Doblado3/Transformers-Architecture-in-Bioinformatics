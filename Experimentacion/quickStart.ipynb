{
 "cells": [
  {
   "cell_type": "code",
   "execution_count": 1,
   "metadata": {},
   "outputs": [
    {
     "name": "stderr",
     "output_type": "stream",
     "text": [
      "/Users/doblado/miniforge3/envs/envTFG/lib/python3.10/site-packages/scgpt/model/model.py:21: UserWarning: flash_attn is not installed\n",
      "  warnings.warn(\"flash_attn is not installed\")\n",
      "/Users/doblado/miniforge3/envs/envTFG/lib/python3.10/site-packages/scgpt/model/multiomic_model.py:19: UserWarning: flash_attn is not installed\n",
      "  warnings.warn(\"flash_attn is not installed\")\n"
     ]
    }
   ],
   "source": [
    "# Import libraries\n",
    "\n",
    "import warnings\n",
    "import urllib.request\n",
    "from pathlib import Path\n",
    "import os\n",
    "\n",
    "import torch\n",
    "import scgpt as scg\n",
    "import scanpy as sc\n",
    "import numpy as np\n",
    "import pandas as pd\n",
    "import gdown\n",
    "\n",
    "warnings.filterwarnings(\"ignore\")"
   ]
  },
  {
   "cell_type": "code",
   "execution_count": 3,
   "metadata": {},
   "outputs": [
    {
     "name": "stdout",
     "output_type": "stream",
     "text": [
      "model checkpoint already downloaded!!\n"
     ]
    }
   ],
   "source": [
    "warnings.simplefilter(\"ignore\", ResourceWarning)\n",
    "warnings.filterwarnings(\"ignore\", category=ImportWarning)\n",
    "\n",
    "output_dir = \"../Experimentacion/save/scGPT_human\"\n",
    "if os.path.exists(output_dir):\n",
    "    print(\"model checkpoint already downloaded!!\")\n",
    "else:\n",
    "    # Use gdown with the recursive flag to download the folder\n",
    "    # Replace the folder ID with the ID of your folder\n",
    "    folder_id = \"1oWh_-ZRdhtoGQ2Fw24HP41FgLoomVo-y\"\n",
    "    # Download the folder and its contents recursively\n",
    "    gdown.download_folder(f\"https://drive.google.com/drive/folders/{folder_id}\", output=output_dir, quiet=False)"
   ]
  },
  {
   "cell_type": "code",
   "execution_count": 4,
   "metadata": {},
   "outputs": [
    {
     "name": "stderr",
     "output_type": "stream",
     "text": [
      "OMP: Info #276: omp_set_nested routine deprecated, please use omp_set_max_active_levels instead.\n"
     ]
    }
   ],
   "source": [
    "# This code downloads the data temporarily\n",
    "uri = \"https://datasets.cellxgene.cziscience.com/f50deffa-43ae-4f12-85ed-33e45040a1fa.h5ad\"\n",
    "source_path = \"../Experimentacion/data/source.h5ad\"\n",
    "urllib.request.urlretrieve(uri, filename=source_path)\n",
    "adata = sc.read_h5ad(source_path)\n",
    "\n",
    "batch_key = \"sample\"\n",
    "N_HVG = 3000\n",
    "\n",
    "\"\"\"\n",
    "    Filtramos el dataset para obtener aquellos genes con una mayor variabilidad y que más\n",
    "    info nos aportan\n",
    "\"\"\"\n",
    "sc.pp.highly_variable_genes(adata, n_top_genes=N_HVG, flavor='seurat_v3')\n",
    "adata_hvg = adata[:, adata.var['highly_variable']]"
   ]
  },
  {
   "cell_type": "code",
   "execution_count": 5,
   "metadata": {},
   "outputs": [
    {
     "data": {
      "text/plain": [
       "View of AnnData object with n_obs × n_vars = 11103 × 3000\n",
       "    obs: 'nCount_RNA', 'nFeature_RNA', 'percent.mt', 'cell_line', 'epcam_positive', 'vim_positive', 'condition_new', 'annotation_res0.34_new2', 'annotation_res0.34_simple2', 'compartment_new2', 'organism_ontology_term_id', 'tissue_ontology_term_id', 'tissue_type', 'assay_ontology_term_id', 'disease_ontology_term_id', 'cell_type_ontology_term_id', 'self_reported_ethnicity_ontology_term_id', 'development_stage_ontology_term_id', 'sex_ontology_term_id', 'suspension_type', 'donor_id', 'is_primary_data', 'cell_type', 'assay', 'disease', 'organism', 'sex', 'tissue', 'self_reported_ethnicity', 'development_stage', 'observation_joinid'\n",
       "    var: 'vst.mean', 'vst.variance', 'vst.variance.expected', 'vst.variance.standardized', 'vst.variable', 'feature_is_filtered', 'feature_name', 'feature_reference', 'feature_biotype', 'feature_length', 'highly_variable', 'highly_variable_rank', 'means', 'variances', 'variances_norm'\n",
       "    uns: 'annotation_res0.34_simple2_colors', 'cell_type_ontology_term_id_colors', 'citation', 'disease_ontology_term_id_colors', 'donor_id_colors', 'schema_reference', 'schema_version', 'self_reported_ethnicity_ontology_term_id_colors', 'sex_ontology_term_id_colors', 'title', 'hvg'\n",
       "    obsm: 'X_umap'"
      ]
     },
     "execution_count": 5,
     "metadata": {},
     "output_type": "execute_result"
    }
   ],
   "source": [
    "adata_hvg"
   ]
  },
  {
   "cell_type": "code",
   "execution_count": 6,
   "metadata": {},
   "outputs": [
    {
     "name": "stdout",
     "output_type": "stream",
     "text": [
      "WARNING: CUDA is not available. Using CPU instead.\n",
      "scGPT - INFO - match 2660/3000 genes in vocabulary of size 60697.\n"
     ]
    },
    {
     "ename": "AttributeError",
     "evalue": "module 'os' has no attribute 'sched_getaffinity'",
     "output_type": "error",
     "traceback": [
      "\u001b[0;31m---------------------------------------------------------------------------\u001b[0m",
      "\u001b[0;31mAttributeError\u001b[0m                            Traceback (most recent call last)",
      "Cell \u001b[0;32mIn[6], line 12\u001b[0m\n\u001b[1;32m      9\u001b[0m gene_col \u001b[38;5;241m=\u001b[39m \u001b[38;5;124m\"\u001b[39m\u001b[38;5;124mfeature_name\u001b[39m\u001b[38;5;124m\"\u001b[39m\n\u001b[1;32m     10\u001b[0m cell_type_key \u001b[38;5;241m=\u001b[39m \u001b[38;5;124m\"\u001b[39m\u001b[38;5;124mcell_type\u001b[39m\u001b[38;5;124m\"\u001b[39m\n\u001b[0;32m---> 12\u001b[0m ref_embed_adata \u001b[38;5;241m=\u001b[39m \u001b[43mscg\u001b[49m\u001b[38;5;241;43m.\u001b[39;49m\u001b[43mtasks\u001b[49m\u001b[38;5;241;43m.\u001b[39;49m\u001b[43membed_data\u001b[49m\u001b[43m(\u001b[49m\n\u001b[1;32m     13\u001b[0m \u001b[43m    \u001b[49m\u001b[43madata_hvg\u001b[49m\u001b[43m,\u001b[49m\n\u001b[1;32m     14\u001b[0m \u001b[43m    \u001b[49m\u001b[43mmodel_dir\u001b[49m\u001b[43m,\u001b[49m\n\u001b[1;32m     15\u001b[0m \u001b[43m    \u001b[49m\u001b[43mgene_col\u001b[49m\u001b[38;5;241;43m=\u001b[39;49m\u001b[43mgene_col\u001b[49m\u001b[43m,\u001b[49m\n\u001b[1;32m     16\u001b[0m \u001b[43m    \u001b[49m\u001b[43mobs_to_save\u001b[49m\u001b[38;5;241;43m=\u001b[39;49m\u001b[43mcell_type_key\u001b[49m\u001b[43m,\u001b[49m\u001b[43m  \u001b[49m\u001b[38;5;66;43;03m# optional arg, only for saving metainfo\u001b[39;49;00m\n\u001b[1;32m     17\u001b[0m \u001b[43m    \u001b[49m\u001b[43mbatch_size\u001b[49m\u001b[38;5;241;43m=\u001b[39;49m\u001b[38;5;241;43m64\u001b[39;49m\u001b[43m,\u001b[49m\n\u001b[1;32m     18\u001b[0m \u001b[43m    \u001b[49m\u001b[43muse_fast_transformer\u001b[49m\u001b[38;5;241;43m=\u001b[39;49m\u001b[38;5;28;43;01mFalse\u001b[39;49;00m\u001b[43m,\u001b[49m\n\u001b[1;32m     19\u001b[0m \u001b[43m    \u001b[49m\u001b[43mreturn_new_adata\u001b[49m\u001b[38;5;241;43m=\u001b[39;49m\u001b[38;5;28;43;01mTrue\u001b[39;49;00m\u001b[43m,\u001b[49m\n\u001b[1;32m     20\u001b[0m \u001b[43m)\u001b[49m\n",
      "File \u001b[0;32m~/miniforge3/envs/envTFG/lib/python3.10/site-packages/scgpt/tasks/cell_emb.py:263\u001b[0m, in \u001b[0;36membed_data\u001b[0;34m(adata_or_file, model_dir, gene_col, max_length, batch_size, obs_to_save, device, use_fast_transformer, return_new_adata)\u001b[0m\n\u001b[1;32m    260\u001b[0m model\u001b[38;5;241m.\u001b[39meval()\n\u001b[1;32m    262\u001b[0m \u001b[38;5;66;03m# get cell embeddings\u001b[39;00m\n\u001b[0;32m--> 263\u001b[0m cell_embeddings \u001b[38;5;241m=\u001b[39m \u001b[43mget_batch_cell_embeddings\u001b[49m\u001b[43m(\u001b[49m\n\u001b[1;32m    264\u001b[0m \u001b[43m    \u001b[49m\u001b[43madata\u001b[49m\u001b[43m,\u001b[49m\n\u001b[1;32m    265\u001b[0m \u001b[43m    \u001b[49m\u001b[43mcell_embedding_mode\u001b[49m\u001b[38;5;241;43m=\u001b[39;49m\u001b[38;5;124;43m\"\u001b[39;49m\u001b[38;5;124;43mcls\u001b[39;49m\u001b[38;5;124;43m\"\u001b[39;49m\u001b[43m,\u001b[49m\n\u001b[1;32m    266\u001b[0m \u001b[43m    \u001b[49m\u001b[43mmodel\u001b[49m\u001b[38;5;241;43m=\u001b[39;49m\u001b[43mmodel\u001b[49m\u001b[43m,\u001b[49m\n\u001b[1;32m    267\u001b[0m \u001b[43m    \u001b[49m\u001b[43mvocab\u001b[49m\u001b[38;5;241;43m=\u001b[39;49m\u001b[43mvocab\u001b[49m\u001b[43m,\u001b[49m\n\u001b[1;32m    268\u001b[0m \u001b[43m    \u001b[49m\u001b[43mmax_length\u001b[49m\u001b[38;5;241;43m=\u001b[39;49m\u001b[43mmax_length\u001b[49m\u001b[43m,\u001b[49m\n\u001b[1;32m    269\u001b[0m \u001b[43m    \u001b[49m\u001b[43mbatch_size\u001b[49m\u001b[38;5;241;43m=\u001b[39;49m\u001b[43mbatch_size\u001b[49m\u001b[43m,\u001b[49m\n\u001b[1;32m    270\u001b[0m \u001b[43m    \u001b[49m\u001b[43mmodel_configs\u001b[49m\u001b[38;5;241;43m=\u001b[39;49m\u001b[43mmodel_configs\u001b[49m\u001b[43m,\u001b[49m\n\u001b[1;32m    271\u001b[0m \u001b[43m    \u001b[49m\u001b[43mgene_ids\u001b[49m\u001b[38;5;241;43m=\u001b[39;49m\u001b[43mgene_ids\u001b[49m\u001b[43m,\u001b[49m\n\u001b[1;32m    272\u001b[0m \u001b[43m    \u001b[49m\u001b[43muse_batch_labels\u001b[49m\u001b[38;5;241;43m=\u001b[39;49m\u001b[38;5;28;43;01mFalse\u001b[39;49;00m\u001b[43m,\u001b[49m\n\u001b[1;32m    273\u001b[0m \u001b[43m\u001b[49m\u001b[43m)\u001b[49m\n\u001b[1;32m    275\u001b[0m \u001b[38;5;28;01mif\u001b[39;00m return_new_adata:\n\u001b[1;32m    276\u001b[0m     obs_df \u001b[38;5;241m=\u001b[39m adata\u001b[38;5;241m.\u001b[39mobs[obs_to_save] \u001b[38;5;28;01mif\u001b[39;00m obs_to_save \u001b[38;5;129;01mis\u001b[39;00m \u001b[38;5;129;01mnot\u001b[39;00m \u001b[38;5;28;01mNone\u001b[39;00m \u001b[38;5;28;01melse\u001b[39;00m \u001b[38;5;28;01mNone\u001b[39;00m\n",
      "File \u001b[0;32m~/miniforge3/envs/envTFG/lib/python3.10/site-packages/scgpt/tasks/cell_emb.py:112\u001b[0m, in \u001b[0;36mget_batch_cell_embeddings\u001b[0;34m(adata, cell_embedding_mode, model, vocab, max_length, batch_size, model_configs, gene_ids, use_batch_labels)\u001b[0m\n\u001b[1;32m     93\u001b[0m dataset \u001b[38;5;241m=\u001b[39m Dataset(\n\u001b[1;32m     94\u001b[0m     count_matrix, gene_ids, batch_ids \u001b[38;5;28;01mif\u001b[39;00m use_batch_labels \u001b[38;5;28;01melse\u001b[39;00m \u001b[38;5;28;01mNone\u001b[39;00m\n\u001b[1;32m     95\u001b[0m )\n\u001b[1;32m     96\u001b[0m collator \u001b[38;5;241m=\u001b[39m DataCollator(\n\u001b[1;32m     97\u001b[0m     do_padding\u001b[38;5;241m=\u001b[39m\u001b[38;5;28;01mTrue\u001b[39;00m,\n\u001b[1;32m     98\u001b[0m     pad_token_id\u001b[38;5;241m=\u001b[39mvocab[model_configs[\u001b[38;5;124m\"\u001b[39m\u001b[38;5;124mpad_token\u001b[39m\u001b[38;5;124m\"\u001b[39m]],\n\u001b[0;32m   (...)\u001b[0m\n\u001b[1;32m    104\u001b[0m     keep_first_n_tokens\u001b[38;5;241m=\u001b[39m\u001b[38;5;241m1\u001b[39m,\n\u001b[1;32m    105\u001b[0m )\n\u001b[1;32m    106\u001b[0m data_loader \u001b[38;5;241m=\u001b[39m DataLoader(\n\u001b[1;32m    107\u001b[0m     dataset,\n\u001b[1;32m    108\u001b[0m     batch_size\u001b[38;5;241m=\u001b[39mbatch_size,\n\u001b[1;32m    109\u001b[0m     sampler\u001b[38;5;241m=\u001b[39mSequentialSampler(dataset),\n\u001b[1;32m    110\u001b[0m     collate_fn\u001b[38;5;241m=\u001b[39mcollator,\n\u001b[1;32m    111\u001b[0m     drop_last\u001b[38;5;241m=\u001b[39m\u001b[38;5;28;01mFalse\u001b[39;00m,\n\u001b[0;32m--> 112\u001b[0m     num_workers\u001b[38;5;241m=\u001b[39m\u001b[38;5;28mmin\u001b[39m(\u001b[38;5;28mlen\u001b[39m(\u001b[43mos\u001b[49m\u001b[38;5;241;43m.\u001b[39;49m\u001b[43msched_getaffinity\u001b[49m(\u001b[38;5;241m0\u001b[39m)), batch_size),\n\u001b[1;32m    113\u001b[0m     pin_memory\u001b[38;5;241m=\u001b[39m\u001b[38;5;28;01mTrue\u001b[39;00m,\n\u001b[1;32m    114\u001b[0m )\n\u001b[1;32m    116\u001b[0m device \u001b[38;5;241m=\u001b[39m \u001b[38;5;28mnext\u001b[39m(model\u001b[38;5;241m.\u001b[39mparameters())\u001b[38;5;241m.\u001b[39mdevice\n\u001b[1;32m    117\u001b[0m cell_embeddings \u001b[38;5;241m=\u001b[39m np\u001b[38;5;241m.\u001b[39mzeros(\n\u001b[1;32m    118\u001b[0m     (\u001b[38;5;28mlen\u001b[39m(dataset), model_configs[\u001b[38;5;124m\"\u001b[39m\u001b[38;5;124membsize\u001b[39m\u001b[38;5;124m\"\u001b[39m]), dtype\u001b[38;5;241m=\u001b[39mnp\u001b[38;5;241m.\u001b[39mfloat32\n\u001b[1;32m    119\u001b[0m )\n",
      "\u001b[0;31mAttributeError\u001b[0m: module 'os' has no attribute 'sched_getaffinity'"
     ]
    }
   ],
   "source": [
    "#warnings.simplefilter(\"ignore\", ResourceWarning)\n",
    "\n",
    "\n",
    "\n",
    "model_dir = Path(\"/Users/doblado/Transformers-Architecture-in-Bioinformatics/Experimentacion/save/scGPT_human\")\n",
    "\n",
    "\n",
    "\n",
    "gene_col = \"feature_name\"\n",
    "cell_type_key = \"cell_type\"\n",
    "\n",
    "ref_embed_adata = scg.tasks.embed_data(\n",
    "    adata_hvg,\n",
    "    model_dir,\n",
    "    gene_col=gene_col,\n",
    "    obs_to_save=cell_type_key,  # optional arg, only for saving metainfo\n",
    "    batch_size=64,\n",
    "    use_fast_transformer=False,\n",
    "    return_new_adata=True,\n",
    ")"
   ]
  },
  {
   "cell_type": "code",
   "execution_count": null,
   "metadata": {},
   "outputs": [
    {
     "ename": "",
     "evalue": "",
     "output_type": "error",
     "traceback": [
      "\u001b[1;31mnotebook controller is DISPOSED. \n",
      "\u001b[1;31mVea el [registro] de Jupyter (command:jupyter.viewOutput) para obtener más detalles."
     ]
    }
   ],
   "source": [
    "ref_embed_adata.X.shape"
   ]
  },
  {
   "cell_type": "code",
   "execution_count": null,
   "metadata": {},
   "outputs": [
    {
     "ename": "",
     "evalue": "",
     "output_type": "error",
     "traceback": [
      "\u001b[1;31mnotebook controller is DISPOSED. \n",
      "\u001b[1;31mVea el [registro] de Jupyter (command:jupyter.viewOutput) para obtener más detalles."
     ]
    }
   ],
   "source": [
    "sc.pp.neighbors(ref_embed_adata, use_rep=\"X\")\n",
    "sc.tl.umap(ref_embed_adata)"
   ]
  },
  {
   "cell_type": "code",
   "execution_count": null,
   "metadata": {},
   "outputs": [
    {
     "ename": "",
     "evalue": "",
     "output_type": "error",
     "traceback": [
      "\u001b[1;31mnotebook controller is DISPOSED. \n",
      "\u001b[1;31mVea el [registro] de Jupyter (command:jupyter.viewOutput) para obtener más detalles."
     ]
    }
   ],
   "source": [
    "adata.obsm[\"X_scgpt\"] = ref_embed_adata.X\n",
    "adata.obsm[\"X_umap\"] = ref_embed_adata.obsm[\"X_umap\"]"
   ]
  },
  {
   "cell_type": "code",
   "execution_count": null,
   "metadata": {},
   "outputs": [
    {
     "ename": "",
     "evalue": "",
     "output_type": "error",
     "traceback": [
      "\u001b[1;31mnotebook controller is DISPOSED. \n",
      "\u001b[1;31mVea el [registro] de Jupyter (command:jupyter.viewOutput) para obtener más detalles."
     ]
    }
   ],
   "source": [
    "# Add the current index ('ensembl_id') as a new column\n",
    "adata.var['ensembl_id'] = adata.var.index\n",
    "\n",
    "# Set the new index to the 'feature_name' column\n",
    "adata.var.set_index('feature_name', inplace=True)"
   ]
  },
  {
   "cell_type": "code",
   "execution_count": null,
   "metadata": {},
   "outputs": [
    {
     "ename": "",
     "evalue": "",
     "output_type": "error",
     "traceback": [
      "\u001b[1;31mnotebook controller is DISPOSED. \n",
      "\u001b[1;31mVea el [registro] de Jupyter (command:jupyter.viewOutput) para obtener más detalles."
     ]
    }
   ],
   "source": [
    "# Add a copy of the gene symbols back to the var dataframe\n",
    "adata.var['gene_symbol'] = adata.var.index"
   ]
  },
  {
   "cell_type": "code",
   "execution_count": null,
   "metadata": {},
   "outputs": [
    {
     "ename": "",
     "evalue": "",
     "output_type": "error",
     "traceback": [
      "\u001b[1;31mnotebook controller is DISPOSED. \n",
      "\u001b[1;31mVea el [registro] de Jupyter (command:jupyter.viewOutput) para obtener más detalles."
     ]
    }
   ],
   "source": [
    "with warnings.catch_warnings():\n",
    "    warnings.filterwarnings(\"ignore\")\n",
    "    #sc.pp.neighbors(ref_embed_adata, use_rep=\"X\")\n",
    "    #sc.tl.umap(ref_embed_adata)\n",
    "    sc.pl.umap(adata, color=[\"cell_type\", \"annotation_res0.34_new2\"], wspace = 0.6)"
   ]
  },
  {
   "cell_type": "code",
   "execution_count": null,
   "metadata": {},
   "outputs": [
    {
     "ename": "",
     "evalue": "",
     "output_type": "error",
     "traceback": [
      "\u001b[1;31mnotebook controller is DISPOSED. \n",
      "\u001b[1;31mVea el [registro] de Jupyter (command:jupyter.viewOutput) para obtener más detalles."
     ]
    }
   ],
   "source": [
    "sc.pl.umap(adata, color=['cell_type', 'MKI67', 'LYZ', 'RBP2', 'MUC2', 'CHGA', 'TAGLN', 'ELAVL3'], frameon=False, use_raw=False, legend_fontsize =\"xx-small\", legend_loc=\"none\")"
   ]
  }
 ],
 "metadata": {
  "kernelspec": {
   "display_name": "envTFG",
   "language": "python",
   "name": "python3"
  },
  "language_info": {
   "codemirror_mode": {
    "name": "ipython",
    "version": 3
   },
   "file_extension": ".py",
   "mimetype": "text/x-python",
   "name": "python",
   "nbconvert_exporter": "python",
   "pygments_lexer": "ipython3",
   "version": "3.10.12"
  }
 },
 "nbformat": 4,
 "nbformat_minor": 2
}
